{
 "cells": [
  {
   "cell_type": "markdown",
   "id": "7ddb8897",
   "metadata": {},
   "source": [
    "# Tutorial 1: QPFAS: Single Experiment\n",
    "\n",
    "In this tutorial we show how to run a single VQE calculation using the `qpfas` package.\n",
    "\n",
    "Note this tutorial (and the others) can be converted into a python file with\n",
    "\n",
    "`jupyter nbconvert --to script <name_of_notebook.ipynb>`\n",
    "\n",
    "or a pdf with\n",
    "\n",
    "`jupyter nbconvert --to pdf <name_of_notebook.ipynb>`"
   ]
  },
  {
   "cell_type": "code",
   "execution_count": null,
   "id": "cd25e220",
   "metadata": {},
   "outputs": [],
   "source": [
    "import qpfas  # we begin by importing the package"
   ]
  },
  {
   "cell_type": "markdown",
   "id": "e3aa2487",
   "metadata": {},
   "source": [
    "## Load molecule & select basis\n",
    "There are many default molecules available in the `qpfas/chemistry/default_molecules` directory"
   ]
  },
  {
   "cell_type": "code",
   "execution_count": null,
   "id": "5f8993a2",
   "metadata": {},
   "outputs": [],
   "source": [
    "print(f\"Default Molecules are: \\n{qpfas.chemistry.default_molecules()}\")"
   ]
  },
  {
   "cell_type": "markdown",
   "id": "1a626800",
   "metadata": {},
   "source": [
    "Next we create a Molecule class, this contains all the information about the chemistry of the molecule (i.e. sufficient information to perform calculations).\n",
    "\n",
    "Thus along with the molecule geometry we need to specify a basis and an active space.\n",
    "\n",
    "The options for the basis are:\n",
    "- `sto-3g`\n",
    "- `3-21G` \n",
    "- `6-31g` \n",
    "- `cc-pVDZ`\n",
    "\n",
    "In the workflow generally sto-3g should be used, as the other choices require a larger number of qubits.\n",
    "\n",
    "Active Space Approximations restrict the set of orbitals and thus reduce the number of qubits. \n",
    "Options are: \n",
    "- `full`, the full active space\n",
    "- `frozen_core`, assume the inner orbitals are occupied\n",
    "- `noons_<tol>` (where `<tol>` is a small number e.g. `noons_0.01`), where we use the post-HF method MP2 to indicate which orbitals are the most necessary to represent the molecule. The smaller the tolerance the more orbitals included.\n",
    "- A list of the active orbitals e.g. [0, 1, 2, ...]\n",
    "\n",
    "Let's see how many qubits each molecule requires to simulate using the `sto-3g` basis and a full active space."
   ]
  },
  {
   "cell_type": "code",
   "execution_count": null,
   "id": "d1eb8c8f",
   "metadata": {},
   "outputs": [],
   "source": [
    "for mol in qpfas.chemistry.default_molecules():\n",
    "    n_spatial_orbitals = len(qpfas.workflow.create_molecule(mol, \"sto-3g\", \"full\").active_orbitals)\n",
    "    n_qubits = n_spatial_orbitals * 2\n",
    "    print(mol, n_qubits)"
   ]
  },
  {
   "cell_type": "markdown",
   "id": "22904c80",
   "metadata": {},
   "source": [
    "We'll create a H2 molecule, with the sto-3g basis and full active space."
   ]
  },
  {
   "cell_type": "code",
   "execution_count": null,
   "id": "a9668c4c",
   "metadata": {},
   "outputs": [],
   "source": [
    "molecule_qpfas = qpfas.workflow.create_molecule(\"H2\", \"sto-3g\", \"full\")\n",
    "\n",
    "# below is how to implement the noons method with tolerance 0.01\n",
    "#molecule_qpfas = qpfas.workflow.create_molecule(\"H2\", \"sto-3g\", \"noons_0.01\")\n",
    "\n",
    "\n",
    "print(molecule_qpfas)"
   ]
  },
  {
   "cell_type": "markdown",
   "id": "49634d60",
   "metadata": {},
   "source": [
    "## Get Tequila molecule & get the qubit hamiltonian\n",
    "Next we create the Tequila molecule and generate the qubit hamiltonian using the Jordan-Wigner transformation."
   ]
  },
  {
   "cell_type": "code",
   "execution_count": null,
   "id": "f61656ea",
   "metadata": {},
   "outputs": [],
   "source": [
    "molecule_tq = qpfas.workflow.get_molecule_tq(molecule_qpfas, \"jordan_wigner\")\n",
    "qubit_hamiltonian_tq = qpfas.workflow.molecule_make_hamiltonian(molecule_tq)\n",
    "\n",
    "print(f\"Number of electrons: {molecule_tq.n_electrons}\\n\"\n",
    "      f\"Number of qubits: {qubit_hamiltonian_tq.n_qubits}\\n\"\n",
    "      f\"Number of Hamiltonian terms: {len(qubit_hamiltonian_tq)}\")"
   ]
  },
  {
   "cell_type": "markdown",
   "id": "013f9c54",
   "metadata": {},
   "source": [
    "## Get ansatz\n",
    "Next we create the ansatz, possible options are:\n",
    "- hardware\n",
    "- hardwareconserving\n",
    "- uccsd\n",
    "- kupccgsd\n",
    "\n",
    "We also have to choose the depth of the ansatz."
   ]
  },
  {
   "cell_type": "code",
   "execution_count": null,
   "id": "77d74738",
   "metadata": {},
   "outputs": [],
   "source": [
    "ansatz_method = \"uccsd\"\n",
    "ansatz = qpfas.workflow.get_ansatz(molecule_tq, ansatz_method=ansatz_method, ansatz_depth=1)"
   ]
  },
  {
   "cell_type": "markdown",
   "id": "310a6d4d",
   "metadata": {},
   "source": [
    "Given an ansatz it's useful to compute a range of statistics about the circuit. "
   ]
  },
  {
   "cell_type": "code",
   "execution_count": null,
   "id": "03917870",
   "metadata": {},
   "outputs": [],
   "source": [
    "gate_stats = qpfas.workflow.get_gate_dict(ansatz)\n",
    "\n",
    "for i in gate_stats:\n",
    "    print(f\"{i}: {gate_stats[i]}\")"
   ]
  },
  {
   "cell_type": "markdown",
   "id": "e0d50e2a",
   "metadata": {},
   "source": [
    "## Run VQE\n",
    "Now we run the VQE and print out the results.\n",
    "\n",
    "For the choice of optimizer there are gradient free methods such as \n",
    "- `NELDER-MEAD`\n",
    "- `COBYLA`\n",
    "- `POWELl`\n",
    "\n",
    "Second order methods\n",
    "- `BFGS` (`L-BFGS-B` uses less memory)\n",
    "- `CG`\n",
    "\n",
    "As well as first order methods\n",
    "- `sgd`\n",
    "- `momentum`\n",
    "- `adam`"
   ]
  },
  {
   "cell_type": "code",
   "execution_count": null,
   "id": "9f84844b",
   "metadata": {},
   "outputs": [],
   "source": [
    "vqe_result = qpfas.workflow.run_vqe(qubit_hamiltonian_tq, ansatz, optimizer=\"bfgs\", initialization=ansatz_method)"
   ]
  },
  {
   "cell_type": "markdown",
   "id": "5aabbb21",
   "metadata": {},
   "source": [
    "## Compare to benchmarks\n",
    "We can compute the ground state energy using classical methods so as to see how accurate our VQE method is."
   ]
  },
  {
   "cell_type": "code",
   "execution_count": null,
   "id": "b8b3e8ec",
   "metadata": {},
   "outputs": [],
   "source": [
    "benchmark_energies = qpfas.workflow.compute_benchmark_energies(molecule_tq, benchmarks=[\"hf\", \"ccsd\", \"fci\"])\n",
    "print(benchmark_energies)"
   ]
  },
  {
   "cell_type": "code",
   "execution_count": null,
   "id": "02369d78",
   "metadata": {},
   "outputs": [],
   "source": [
    "print(\"Error from FCI: (vqe method)\", (vqe_result.energy-benchmark_energies[\"fci_energy\"]))"
   ]
  },
  {
   "cell_type": "markdown",
   "id": "d4f5fb98",
   "metadata": {},
   "source": [
    "## Tapering\n",
    "`qpfas` also supports tapering (https://arxiv.org/abs/1701.08213) combined with the hardward ansatz. In the tapering method, several qubits are removed due to symmetries in the Hamiltonian. The hardware ansatz is necessary as tapering transforms the Hamiltonian into a new Hamiltonian with a different number of particles.\n",
    "\n",
    "For H2, by using tapering we can reduce the circuit from 4 qubits to 1.\n",
    "\n",
    "The details of which qubits were removed can be found below in the `tapering_dict`"
   ]
  },
  {
   "cell_type": "code",
   "execution_count": null,
   "id": "5986f947",
   "metadata": {},
   "outputs": [],
   "source": [
    "ansatz, taper_result, tapering_dict = qpfas.workflow.run_tapering_vqe(qubit_hamiltonian_tq, \n",
    "                                                                       depth=1, \n",
    "                                                                       optimizer=\"bfgs\")"
   ]
  },
  {
   "cell_type": "code",
   "execution_count": null,
   "id": "f5098977",
   "metadata": {},
   "outputs": [],
   "source": [
    "tapering_dict"
   ]
  },
  {
   "cell_type": "code",
   "execution_count": null,
   "id": "29df4a46",
   "metadata": {},
   "outputs": [],
   "source": [
    "print(\"Error from FCI: (tapering method)\", (taper_result.energy-benchmark_energies[\"fci_energy\"]))"
   ]
  },
  {
   "cell_type": "code",
   "execution_count": null,
   "id": "36c76127",
   "metadata": {},
   "outputs": [],
   "source": [
    "gate_stats = qpfas.workflow.get_gate_dict(ansatz)\n",
    "\n",
    "for i in gate_stats:\n",
    "    print(f\"{i}: {gate_stats[i]}\")"
   ]
  },
  {
   "cell_type": "markdown",
   "id": "63486d1b",
   "metadata": {},
   "source": [
    "## Adapt\n",
    "\n",
    "Finally, `qpfas` supports the Adapt ansatz, see https://www.nature.com/articles/s41467-019-10988-2\n",
    "\n",
    "Here gates are interatively added to the Ansatz until convergence."
   ]
  },
  {
   "cell_type": "code",
   "execution_count": null,
   "id": "e69f9677",
   "metadata": {},
   "outputs": [],
   "source": [
    "adapt_result = qpfas.workflow.run_adapt_vqe(qubit_hamiltonian_tq, 0.1, molecule_tq, \"bfgs\", \"gccsd\")"
   ]
  },
  {
   "cell_type": "code",
   "execution_count": null,
   "id": "692a3ad6",
   "metadata": {},
   "outputs": [],
   "source": [
    "print(\"Error from FCI: (adapt method)\", (adapt_result.energy-benchmark_energies[\"fci_energy\"]))"
   ]
  },
  {
   "cell_type": "code",
   "execution_count": null,
   "id": "52bdda7a",
   "metadata": {},
   "outputs": [],
   "source": [
    "gate_stats = qpfas.workflow.get_gate_dict(adapt_result.U)\n",
    "\n",
    "\n",
    "for i in gate_stats:\n",
    "    print(f\"{i}: {gate_stats[i]}\")"
   ]
  }
 ],
 "metadata": {
  "kernelspec": {
   "display_name": "Python 3 (ipykernel)",
   "language": "python",
   "name": "python3"
  },
  "language_info": {
   "codemirror_mode": {
    "name": "ipython",
    "version": 3
   },
   "file_extension": ".py",
   "mimetype": "text/x-python",
   "name": "python",
   "nbconvert_exporter": "python",
   "pygments_lexer": "ipython3",
   "version": "3.7.10"
  }
 },
 "nbformat": 4,
 "nbformat_minor": 5
}
