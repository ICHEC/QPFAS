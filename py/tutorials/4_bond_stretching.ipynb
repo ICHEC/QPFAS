{
 "cells": [
  {
   "cell_type": "markdown",
   "id": "gothic-woman",
   "metadata": {},
   "source": [
    "# Bond Breaking\n",
    "Here we use the VQE to break the H2 bond, as defined by the `distort_exp_input.yml` file."
   ]
  },
  {
   "cell_type": "markdown",
   "id": "e2e9a0db",
   "metadata": {},
   "source": [
    "Before we begin, let's view the input yml file"
   ]
  },
  {
   "cell_type": "code",
   "execution_count": null,
   "id": "bfbbb043",
   "metadata": {},
   "outputs": [],
   "source": [
    "!cat experiment_inputs/distort_exp_input.yml"
   ]
  },
  {
   "cell_type": "markdown",
   "id": "d6e73cb4",
   "metadata": {},
   "source": [
    "Note that this is very similar to the previous yml file except we nopw have included the `distortion_dict`. This dictionary specifies how the bond-strectching is performed. \n",
    "\n",
    "`equilibrium_geom` is the initial geometry of the molecule\n",
    "\n",
    "`atom_bond_indices` specify which two atoms makeup the bond which is to be strecthed.\n",
    "\n",
    "`stretch_params` is a list containing three terms. The first is the distance the two atoms are to be brought closer, the second is the distance the two atoms are to be brought apart and the final is the number of distortions.\n",
    "\n",
    "When running the bond-breaking from the `distortion_dict`, initially all atoms in the molecule are divided into two clusters, depending on which of the two atoms (which make up the bond) they're closest to. Then when streching/compressing the bond, all atoms on the same cluster are moved together."
   ]
  },
  {
   "cell_type": "code",
   "execution_count": null,
   "id": "continental-shuttle",
   "metadata": {},
   "outputs": [],
   "source": [
    "import qpfas\n",
    "import os\n",
    "import matplotlib.pyplot as plt\n",
    "import numpy as np\n",
    "import pandas as pd"
   ]
  },
  {
   "cell_type": "markdown",
   "id": "beautiful-tackle",
   "metadata": {},
   "source": [
    "## Run VQE"
   ]
  },
  {
   "cell_type": "code",
   "execution_count": null,
   "id": "accompanied-heritage",
   "metadata": {},
   "outputs": [],
   "source": [
    "client = qpfas.workflow.DaskDAG.create_client(dask_scheduler_uri=\"tcp://dask-scheduler:8786\")"
   ]
  },
  {
   "cell_type": "code",
   "execution_count": null,
   "id": "continued-conjunction",
   "metadata": {},
   "outputs": [],
   "source": [
    "YAML_FILE = os.path.join(os.getcwd(), 'experiment_inputs','distort_exp_input.yml')\n",
    "\n",
    "graph, keys_to_gather, exp_params, dag_nodes = qpfas.workflow.EfficientDAG.load_from_yaml(YAML_FILE)\n",
    "\n",
    "print(\"Number of Experiments:\", len(exp_params))\n",
    "\n",
    "print(\"\\nDAG Nodes:\")\n",
    "for i in dag_nodes:\n",
    "    print(f\"{i}: {dag_nodes[i]}\")\n",
    "    \n",
    "print(\"\\nKeys Gathered:\")\n",
    "print(keys_to_gather)"
   ]
  },
  {
   "cell_type": "code",
   "execution_count": null,
   "id": "5e540b20",
   "metadata": {},
   "outputs": [],
   "source": [
    "# to view the DASK graph\n",
    "# qpfas.workflow.DaskDAG.visualize_dag(graph)  "
   ]
  },
  {
   "cell_type": "code",
   "execution_count": null,
   "id": "025e16c0",
   "metadata": {},
   "outputs": [],
   "source": [
    "results = qpfas.workflow.DaskDAG.get(client, graph, keys_to_gather)\n",
    "qpfas.workflow.EfficientDAG.write_to_file(\"H2_dist_exp_output\", exp_params, results)"
   ]
  },
  {
   "cell_type": "code",
   "execution_count": null,
   "id": "4dbd1c8e",
   "metadata": {},
   "outputs": [],
   "source": [
    "!head -40 H2_dist_exp_output.json"
   ]
  },
  {
   "cell_type": "markdown",
   "id": "bd8d3f17",
   "metadata": {},
   "source": [
    "Note that the running the bond-breaking workflow produces an xyz file with the distortions in them."
   ]
  },
  {
   "cell_type": "code",
   "execution_count": null,
   "id": "0e76d7d1",
   "metadata": {},
   "outputs": [],
   "source": [
    "!cat H2_distortions.xyz"
   ]
  },
  {
   "cell_type": "markdown",
   "id": "b87035ed",
   "metadata": {},
   "source": [
    "## Analysis of Data"
   ]
  },
  {
   "cell_type": "code",
   "execution_count": null,
   "id": "4a424190",
   "metadata": {},
   "outputs": [],
   "source": [
    "exp_df = pd.read_json(\"H2_dist_exp_output.json\")\n",
    "exp_df"
   ]
  },
  {
   "cell_type": "code",
   "execution_count": null,
   "id": "72538c49",
   "metadata": {},
   "outputs": [],
   "source": [
    "print(exp_df.columns)\n",
    "print(exp_df.iloc[0])"
   ]
  },
  {
   "cell_type": "code",
   "execution_count": null,
   "id": "3c9682ce",
   "metadata": {},
   "outputs": [],
   "source": [
    "%matplotlib notebook\n",
    "\n",
    "vqe_energy = [i[\"converged_energy\"] for i in exp_df[\"vqe_output\"]]\n",
    "\n",
    "plt.figure(figsize=(6, 4))\n",
    "\n",
    "plt.plot(exp_df[\"bond_distance\"], vqe_energy, label=\"VQE\", marker='o')\n",
    "plt.plot(exp_df[\"bond_distance\"], exp_df[\"hf_energy\"], label=\"HF\", marker='o')\n",
    "plt.plot(exp_df[\"bond_distance\"], exp_df[\"fci_energy\"], label=\"FCI\", ls='dashed', c='k')\n",
    "\n",
    "plt.legend()\n",
    "plt.xlabel(\"Bond Distance (A)\")\n",
    "plt.ylabel(\"Energy (H)\")\n",
    "plt.show()"
   ]
  },
  {
   "cell_type": "code",
   "execution_count": null,
   "id": "3781d02d",
   "metadata": {},
   "outputs": [],
   "source": [
    "%matplotlib notebook\n",
    "\n",
    "plt.figure(figsize=(6, 4))\n",
    "\n",
    "plt.plot(exp_df[\"bond_distance\"], vqe_energy-exp_df[\"fci_energy\"], label=\"VQE\", marker='o')\n",
    "plt.plot(exp_df[\"bond_distance\"], exp_df[\"hf_energy\"]-exp_df[\"fci_energy\"], label=\"HF\", marker='o')\n",
    "\n",
    "plt.legend()\n",
    "plt.xlabel(\"Bond Distance (A)\")\n",
    "plt.ylabel(\"Error (H)\")\n",
    "plt.yscale(\"log\")\n",
    "plt.show()"
   ]
  }
 ],
 "metadata": {
  "kernelspec": {
   "display_name": "Python 3 (ipykernel)",
   "language": "python",
   "name": "python3"
  },
  "language_info": {
   "codemirror_mode": {
    "name": "ipython",
    "version": 3
   },
   "file_extension": ".py",
   "mimetype": "text/x-python",
   "name": "python",
   "nbconvert_exporter": "python",
   "pygments_lexer": "ipython3",
   "version": "3.7.10"
  }
 },
 "nbformat": 4,
 "nbformat_minor": 5
}
