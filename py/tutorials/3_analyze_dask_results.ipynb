{
 "cells": [
  {
   "cell_type": "markdown",
   "id": "c2174ada",
   "metadata": {},
   "source": [
    "# Analysis of Results\n",
    "Note, this notebook requires the file `H2_exp_output.json` (which is created in the `2_efficient_graph.ipynb` notebook) to exist.\n",
    "\n",
    "Here we analyse some of the results from the DASK run for the H2 experiment."
   ]
  },
  {
   "cell_type": "code",
   "execution_count": null,
   "id": "eea7aa4e",
   "metadata": {},
   "outputs": [],
   "source": [
    "import matplotlib.pyplot as plt\n",
    "import pandas as pd\n",
    "import numpy as np\n",
    "import qpfas"
   ]
  },
  {
   "cell_type": "markdown",
   "id": "6e5eeccd",
   "metadata": {},
   "source": [
    "## Load `json` file"
   ]
  },
  {
   "cell_type": "code",
   "execution_count": null,
   "id": "70357bfa",
   "metadata": {},
   "outputs": [],
   "source": [
    "exp_df = pd.read_json (\"H2_exp_output.json\")\n",
    "exp_df.head()"
   ]
  },
  {
   "cell_type": "markdown",
   "id": "3b98b1ba",
   "metadata": {},
   "source": [
    "## Compute VQE Error"
   ]
  },
  {
   "cell_type": "code",
   "execution_count": null,
   "id": "28d49f13",
   "metadata": {},
   "outputs": [],
   "source": [
    "vqe_energies = np.array([i[\"converged_energy\"] for i in exp_df[\"vqe_output\"].values])\n",
    "\n",
    "exp_df[\"vqe_error_abs\"] = np.abs(vqe_energies - exp_df[\"fci_energy\"])\n",
    "exp_df[\"hf_error\"] = exp_df[\"hf_energy\"] - exp_df[\"fci_energy\"]\n"
   ]
  },
  {
   "cell_type": "markdown",
   "id": "2503ac16",
   "metadata": {},
   "source": [
    "## Explore Data"
   ]
  },
  {
   "cell_type": "code",
   "execution_count": null,
   "id": "181295ac",
   "metadata": {},
   "outputs": [],
   "source": [
    "%matplotlib notebook\n",
    "\n",
    "plt.figure(figsize=(10, 6))\n",
    "\n",
    "exp_vars = [f\"{i['transformation']}\\n{i['optimizer']}\" for _, i in exp_df.iterrows()]\n",
    "\n",
    "exp_df[\"vqe_error_abs\"].plot(marker='o', label='VQE')\n",
    "plt.xticks(np.arange(len(exp_vars)), exp_vars)\n",
    "\n",
    "plt.ylabel(\"Error (H)\")\n",
    "plt.yscale(\"log\")\n",
    "plt.axhline(y=exp_df[\"hf_error\"].values[0], c=\"k\", ls='dashed', label='HF')\n",
    "plt.legend()\n",
    "plt.tight_layout()\n",
    "plt.show()"
   ]
  },
  {
   "cell_type": "markdown",
   "id": "698f5a78",
   "metadata": {},
   "source": [
    "## Graph Reconstruction\n",
    "We can resconstruct the orginal dask dag from the results"
   ]
  },
  {
   "cell_type": "code",
   "execution_count": null,
   "id": "089bda8b",
   "metadata": {},
   "outputs": [],
   "source": [
    "graph = qpfas.workflow.reconstruct_graph(exp_df[\"node_history\"].values)\n",
    "qpfas.workflow.DaskDAG.visualize_dag(graph)"
   ]
  }
 ],
 "metadata": {
  "kernelspec": {
   "display_name": "Python 3 (ipykernel)",
   "language": "python",
   "name": "python3"
  },
  "language_info": {
   "codemirror_mode": {
    "name": "ipython",
    "version": 3
   },
   "file_extension": ".py",
   "mimetype": "text/x-python",
   "name": "python",
   "nbconvert_exporter": "python",
   "pygments_lexer": "ipython3",
   "version": "3.7.10"
  }
 },
 "nbformat": 4,
 "nbformat_minor": 5
}
