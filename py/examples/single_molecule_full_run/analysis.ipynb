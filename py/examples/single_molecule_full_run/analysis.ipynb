{
 "cells": [
  {
   "cell_type": "markdown",
   "id": "3782b50a",
   "metadata": {},
   "source": [
    "## Analysis\n",
    "A notebook for plotting the results"
   ]
  },
  {
   "cell_type": "code",
   "execution_count": null,
   "id": "16378a47",
   "metadata": {},
   "outputs": [],
   "source": [
    "import matplotlib.pyplot as plt\n",
    "import pandas as pd\n",
    "import numpy as np"
   ]
  },
  {
   "cell_type": "code",
   "execution_count": null,
   "id": "f55bcb23",
   "metadata": {},
   "outputs": [],
   "source": [
    "exp_df = pd.read_json(\"results/H2_fullrun.json\")\n",
    "exp_df.columns"
   ]
  },
  {
   "cell_type": "code",
   "execution_count": null,
   "id": "e21b490e",
   "metadata": {},
   "outputs": [],
   "source": [
    "for c, i in exp_df.iterrows():\n",
    "    print(f\"{c}: {i['optimizer']}, {i['ansatz_name']}, {i['transformation']}\")\n",
    "    #print(\"\\t:\", vqe_res['n_iterations'])\n",
    "    #print(vqe_res)\n",
    "    print(\"\\t\", i[\"vqe_output\"][\"converged_energy\"], i[\"vqe_output\"][\"n_params\"])\n",
    "    #print(vqe_res['n_iterations'])\n"
   ]
  },
  {
   "cell_type": "code",
   "execution_count": null,
   "id": "cb28e4e5",
   "metadata": {},
   "outputs": [],
   "source": [
    "def depth_nice(x):\n",
    "    x = str(x)\n",
    "    if x[-2:] == \".0\":\n",
    "        x = x[:-2]\n",
    "    return x"
   ]
  },
  {
   "cell_type": "code",
   "execution_count": null,
   "id": "f656007b",
   "metadata": {},
   "outputs": [],
   "source": [
    "ansatz_full_names = np.array([f'{i[1][\"ansatz_name\"]} ({depth_nice(i[1][\"ansatz_depth\"])})' for i in exp_df.iterrows()])\n",
    "u_ansatz_full_names = np.unique(ansatz_full_names)\n",
    "u_ansatz_full_names"
   ]
  },
  {
   "cell_type": "code",
   "execution_count": null,
   "id": "e3f39a03",
   "metadata": {},
   "outputs": [],
   "source": [
    "optims = np.unique(exp_df[\"optimizer\"])\n",
    "print(optims)\n",
    "\n",
    "# group according to gradient order\n",
    "optims = ['Nelder-Mead', 'COBYLA', 'POWELL', 'CG', 'BFGS', 'L-BFGS-B']"
   ]
  },
  {
   "cell_type": "code",
   "execution_count": null,
   "id": "bca7794e",
   "metadata": {},
   "outputs": [],
   "source": [
    "%matplotlib notebook\n",
    "\n",
    "fig, axs = plt.subplots(nrows=2, figsize=(10,4), sharex=\"col\")\n",
    "\n",
    "for c, i in enumerate(u_ansatz_full_names):\n",
    "    exp_df_sub = exp_df[ansatz_full_names == i]\n",
    "    \n",
    "    x_jw = []\n",
    "    x_bk = []\n",
    "    \n",
    "    for j in optims:\n",
    "        exp_df_sub2 = exp_df_sub[exp_df_sub[\"optimizer\"] == j]\n",
    "        #print(exp_df_sub2[\"transformation\"])\n",
    "        x_jw.append(exp_df_sub2.iloc[0][\"vqe_output\"][\"converged_energy\"] - exp_df.iloc[0][\"fci_energy\"] + 1e-14)\n",
    "        x_bk.append(exp_df_sub2.iloc[1][\"vqe_output\"][\"converged_energy\"] - exp_df.iloc[0][\"fci_energy\"] + 1e-14)\n",
    "    \n",
    "    axs[0].bar(np.arange(len(x_jw))+c*0.1, x_jw, width=0.1, label=i)\n",
    "    axs[1].bar(np.arange(len(x_bk))+c*0.1, x_bk, width=0.1, label=i)\n",
    "\n",
    "\n",
    "for i in [0, 1]:\n",
    "    axs[i].axhline(y=exp_df.iloc[0][\"hf_energy\"]-exp_df.iloc[0][\"fci_energy\"], c='k', label=\"HF\", ls='--')\n",
    "    axs[i].set_yscale(\"log\")\n",
    "\n",
    "\n",
    "axs[0].set_ylabel(\"VQE Error (H) - JW\", fontsize=10)\n",
    "axs[1].set_ylabel(\"VQE Error (H) - BK\", fontsize=10)\n",
    "\n",
    "\n",
    "axs[1].set_xticks(np.arange(len(x_jw))+0.2)\n",
    "axs[1].set_xticklabels(optims, rotation='horizontal', fontsize=10)\n",
    "\n",
    "\n",
    "axs[0].legend(fontsize=6)\n",
    "\n",
    "#fig.tight_layout()\n",
    "fig.savefig(\"out.pdf\")"
   ]
  }
 ],
 "metadata": {
  "kernelspec": {
   "display_name": "Python 3 (ipykernel)",
   "language": "python",
   "name": "python3"
  },
  "language_info": {
   "codemirror_mode": {
    "name": "ipython",
    "version": 3
   },
   "file_extension": ".py",
   "mimetype": "text/x-python",
   "name": "python",
   "nbconvert_exporter": "python",
   "pygments_lexer": "ipython3",
   "version": "3.7.10"
  }
 },
 "nbformat": 4,
 "nbformat_minor": 5
}
