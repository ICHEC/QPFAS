{
 "cells": [
  {
   "cell_type": "markdown",
   "id": "6cfcfd0e",
   "metadata": {},
   "source": [
    "A notebook for analysis the bond stertching results."
   ]
  },
  {
   "cell_type": "code",
   "execution_count": null,
   "id": "e8c47e90",
   "metadata": {},
   "outputs": [],
   "source": [
    "import pandas as pd\n",
    "import matplotlib.pyplot as plt"
   ]
  },
  {
   "cell_type": "code",
   "execution_count": null,
   "id": "43fb926a",
   "metadata": {},
   "outputs": [],
   "source": [
    "exp_df = pd.read_json(\"results/LiH.json\")\n",
    "exp_df[[\"ansatz_name\", \"ansatz_depth\"]]"
   ]
  },
  {
   "cell_type": "code",
   "execution_count": null,
   "id": "b800bff6",
   "metadata": {},
   "outputs": [],
   "source": [
    "exp_df[\"ansatz_full_names\"] = exp_df[\"ansatz_name\"] + \" (\" + exp_df[\"ansatz_depth\"].astype(\"str\") + \")\"\n",
    "exp_df[\"ansatz_full_names\"]"
   ]
  },
  {
   "cell_type": "code",
   "execution_count": null,
   "id": "a0411548",
   "metadata": {},
   "outputs": [],
   "source": [
    "fig, axs = plt.subplots(nrows=2, sharex='col')\n",
    "\n",
    "for c, ansatz_name in enumerate(exp_df[\"ansatz_full_names\"].unique()):\n",
    "    inds = exp_df['ansatz_full_names'] == ansatz_name\n",
    "\n",
    "    if c == 0:\n",
    "        axs[0].plot(exp_df[inds][\"bond_distance\"], exp_df[inds][\"hf_energy\"], label=\"HF\", c='k')\n",
    "        axs[1].plot(exp_df[inds][\"bond_distance\"], exp_df[inds][\"hf_energy\"]-exp_df[inds][\"fci_energy\"], label=\"HF\", c='k')\n",
    "        axs[0].plot(exp_df[inds][\"bond_distance\"], exp_df[inds][\"fci_energy\"], label=\"FCI\", c='k', ls='--')\n",
    "\n",
    "    vqe_energy = [i[\"converged_energy\"] for i in exp_df[inds][\"vqe_output\"]]\n",
    "    print(vqe_energy)\n",
    "    axs[0].plot(exp_df[inds][\"bond_distance\"], vqe_energy, marker='o', lw=2, label=ansatz_name)\n",
    "    axs[1].plot(exp_df[inds][\"bond_distance\"], vqe_energy-exp_df[inds][\"fci_energy\"], marker='o', lw=2)\n",
    "\n",
    "    \n",
    "axs[0].legend()\n",
    "\n",
    "axs[0].set_ylabel(\"Energy (H)\")\n",
    "axs[1].set_ylabel(\"Error (H)\")\n",
    "\n",
    "axs[1].set_xlabel(\"Bond Distance (A)\")\n",
    "axs[1].set_yscale(\"log\")\n",
    "plt.tight_layout()\n",
    "#plt.savefig(\"LiH_bond.pdf\")"
   ]
  }
 ],
 "metadata": {
  "kernelspec": {
   "display_name": "Python 3 (ipykernel)",
   "language": "python",
   "name": "python3"
  },
  "language_info": {
   "codemirror_mode": {
    "name": "ipython",
    "version": 3
   },
   "file_extension": ".py",
   "mimetype": "text/x-python",
   "name": "python",
   "nbconvert_exporter": "python",
   "pygments_lexer": "ipython3",
   "version": "3.7.10"
  }
 },
 "nbformat": 4,
 "nbformat_minor": 5
}
