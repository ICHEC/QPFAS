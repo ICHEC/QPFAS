{
 "cells": [
  {
   "cell_type": "markdown",
   "id": "8baba761",
   "metadata": {},
   "source": [
    "Notebook for plotting the CH3F molecule distortions"
   ]
  },
  {
   "cell_type": "code",
   "execution_count": null,
   "id": "b0da750c",
   "metadata": {},
   "outputs": [],
   "source": [
    "import qpfas\n",
    "import matplotlib.pyplot as plt\n",
    "from mpl_toolkits.mplot3d import Axes3D"
   ]
  },
  {
   "cell_type": "code",
   "execution_count": null,
   "id": "5eb730ed",
   "metadata": {},
   "outputs": [],
   "source": [
    "equilibrium_geom = [[\"C\", -1.66557816, 0.68145306, 0.16200344],\n",
    "                    [\"H\", -1.30892373, -0.32735694, 0.16200344],\n",
    "                    [\"H\", -1.30890532, 1.18585125, -0.71164806],\n",
    "                    [\"H\", -2.73557816, 0.68146624, 0.16200344],\n",
    "                    [\"F\", -1.21557037, 1.31784330, 1.26427403]]"
   ]
  },
  {
   "cell_type": "code",
   "execution_count": null,
   "id": "07097619",
   "metadata": {},
   "outputs": [],
   "source": [
    "n_dist = 3\n",
    "stretch_params = [-0.2, 1.5, n_dist]"
   ]
  },
  {
   "cell_type": "code",
   "execution_count": null,
   "id": "29198b4e",
   "metadata": {},
   "outputs": [],
   "source": [
    "qpfas.chemistry.create_distortions(equilibrium_geom=equilibrium_geom, \n",
    "                                   atom_bond_indices=[0,4], \n",
    "                                   stretch_params=stretch_params, \n",
    "                                   write_to=\".\", \n",
    "                                   tag=\"CH3F\")"
   ]
  },
  {
   "cell_type": "code",
   "execution_count": null,
   "id": "707c0dbb",
   "metadata": {},
   "outputs": [],
   "source": [
    "col_dict = {\"C\": \"C0\", \"F\": \"C1\", \"H\":\"k\"}\n",
    "size_dict = {\"C\":100, \"F\":100, \"H\":10}"
   ]
  },
  {
   "cell_type": "code",
   "execution_count": null,
   "id": "66310060",
   "metadata": {},
   "outputs": [],
   "source": [
    "%matplotlib notebook\n",
    "\n",
    "fig = plt.figure()\n",
    "ax = fig.add_subplot(111, projection='3d')\n",
    "ax.set_axis_off()\n",
    "\n",
    "for i in range(n_dist):\n",
    "    qpfas_mol = qpfas.workflow.create_molecule(molecule_tag=\"CH3F\",\n",
    "                                               basis=\"sto-3g\",\n",
    "                                               active_space=\"full\",\n",
    "                                               path=\".\",\n",
    "                                               mol_index=i)\n",
    "    \n",
    "    for j in qpfas_mol.atom_list:\n",
    "        print(j[1])\n",
    "        ax.scatter(*j[1], color=col_dict[j[0]], alpha=(n_dist-i)/n_dist, s=size_dict[j[0]])\n",
    "\n",
    "    for num, p in enumerate([[0,1], [0, 2], [0, 3], [0, 4]]):\n",
    "        if num == 1:\n",
    "            ls=\"dashed\"\n",
    "        else:\n",
    "            ls = \"solid\"\n",
    "            \n",
    "        ax.plot([qpfas_mol.atom_list[p[0]][1][0], qpfas_mol.atom_list[p[1]][1][0]], \n",
    "                [qpfas_mol.atom_list[p[0]][1][1], qpfas_mol.atom_list[p[1]][1][1]],\n",
    "                [qpfas_mol.atom_list[p[0]][1][2], qpfas_mol.atom_list[p[1]][1][2]],\n",
    "                c='grey', lw=1, ls=ls)\n"
   ]
  }
 ],
 "metadata": {
  "kernelspec": {
   "display_name": "Python 3 (ipykernel)",
   "language": "python",
   "name": "python3"
  },
  "language_info": {
   "codemirror_mode": {
    "name": "ipython",
    "version": 3
   },
   "file_extension": ".py",
   "mimetype": "text/x-python",
   "name": "python",
   "nbconvert_exporter": "python",
   "pygments_lexer": "ipython3",
   "version": "3.7.10"
  }
 },
 "nbformat": 4,
 "nbformat_minor": 5
}
