{
 "cells": [
  {
   "cell_type": "code",
   "execution_count": null,
   "id": "cd25e220",
   "metadata": {},
   "outputs": [],
   "source": [
    "import qpfas\n",
    "import tequila as tq\n",
    "import numpy as np"
   ]
  },
  {
   "cell_type": "code",
   "execution_count": null,
   "id": "a9668c4c",
   "metadata": {},
   "outputs": [],
   "source": [
    "molecule_qpfas = qpfas.workflow.create_molecule(\"H2\", \"sto-3g\", \"full\")\n",
    "print(molecule_qpfas)"
   ]
  },
  {
   "cell_type": "code",
   "execution_count": null,
   "id": "f61656ea",
   "metadata": {},
   "outputs": [],
   "source": [
    "molecule_tq = qpfas.workflow.get_molecule_tq(molecule_qpfas, \"jordan_wigner\")\n",
    "qubit_hamiltonian_tq = qpfas.workflow.molecule_make_hamiltonian(molecule_tq)\n",
    "\n",
    "print(f\"Number of electrons: {molecule_tq.n_electrons}\\n\"\n",
    "      f\"Number of qubits: {qubit_hamiltonian_tq.n_qubits}\\n\"\n",
    "      f\"Number of Hamiltonian terms: {len(qubit_hamiltonian_tq)}\")"
   ]
  },
  {
   "cell_type": "code",
   "execution_count": null,
   "id": "baa0bef3",
   "metadata": {},
   "outputs": [],
   "source": [
    "print(qubit_hamiltonian_tq)"
   ]
  },
  {
   "cell_type": "code",
   "execution_count": null,
   "id": "dbe2b216",
   "metadata": {},
   "outputs": [],
   "source": [
    "with open('qubit_hamiltonian', 'w') as f:\n",
    "    f.write(\"%s\" % qubit_hamiltonian_tq.to_openfermion())"
   ]
  },
  {
   "cell_type": "code",
   "execution_count": null,
   "id": "77d74738",
   "metadata": {},
   "outputs": [],
   "source": [
    "ansatz_method = \"uccsd\"\n",
    "ansatz = qpfas.workflow.get_ansatz(molecule_tq, ansatz_method=ansatz_method, ansatz_depth=1)"
   ]
  },
  {
   "cell_type": "code",
   "execution_count": null,
   "id": "0347133d",
   "metadata": {},
   "outputs": [],
   "source": [
    "variables = {i: np.random.rand() for i in ansatz.extract_variables()}  # necessary for qasm conversion\n",
    "qasm_str = tq.export_open_qasm(ansatz, variables=variables)\n"
   ]
  },
  {
   "cell_type": "code",
   "execution_count": null,
   "id": "365c538e",
   "metadata": {},
   "outputs": [],
   "source": [
    "print(qasm_str)"
   ]
  },
  {
   "cell_type": "code",
   "execution_count": null,
   "id": "bd6f141c",
   "metadata": {},
   "outputs": [],
   "source": [
    "with open('circuit.qasm', 'w') as f:\n",
    "    f.write(qasm_str)"
   ]
  }
 ],
 "metadata": {
  "kernelspec": {
   "display_name": "Python 3 (ipykernel)",
   "language": "python",
   "name": "python3"
  },
  "language_info": {
   "codemirror_mode": {
    "name": "ipython",
    "version": 3
   },
   "file_extension": ".py",
   "mimetype": "text/x-python",
   "name": "python",
   "nbconvert_exporter": "python",
   "pygments_lexer": "ipython3",
   "version": "3.7.10"
  }
 },
 "nbformat": 4,
 "nbformat_minor": 5
}
