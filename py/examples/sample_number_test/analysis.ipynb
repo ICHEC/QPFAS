{
 "cells": [
  {
   "cell_type": "code",
   "execution_count": null,
   "id": "0e1b381d",
   "metadata": {},
   "outputs": [],
   "source": [
    "import matplotlib.pyplot as plt\n",
    "import pandas as pd\n",
    "import numpy as np\n",
    "import os"
   ]
  },
  {
   "cell_type": "code",
   "execution_count": null,
   "id": "a6110cee",
   "metadata": {},
   "outputs": [],
   "source": [
    "n_runs = len(os.listdir(\"run_outputs\"))\n",
    "print(n_runs)"
   ]
  },
  {
   "cell_type": "code",
   "execution_count": null,
   "id": "59f8fb71",
   "metadata": {},
   "outputs": [],
   "source": [
    "for j in [\"BFGS\", \"COBYLA\"]:\n",
    "    vqe_runs = []\n",
    "    for r in range(1, n_runs + 1):\n",
    "        df_3 = pd.read_json(\"run_outputs/run_%i.json\" % r)\n",
    "        inds = (df_3[\"samples\"] > 0) & (df_3[\"optimizer\"] == j)\n",
    "        vqe_runs.append([i[\"converged_energy\"] for i in df_3[inds][\"vqe_output\"]])\n",
    "        samples = df_3[inds][\"samples\"]\n",
    "        print(samples)\n",
    "    vqe_runs = np.array(vqe_runs)\n",
    "    plt.fill_between(samples, vqe_runs.mean(0) - vqe_runs.std(0), vqe_runs.mean(0) + vqe_runs.std(0), alpha=0.2)\n",
    "    plt.plot(samples, vqe_runs.mean(0), marker='o', label=j)\n",
    "\n",
    "plt.axhline(df_3.iloc[0][\"fci_energy\"], c='k', ls='dashed', lw=2, label='FCI')\n",
    "\n",
    "plt.xscale(\"log\")\n",
    "plt.xlabel(\"Number of Samples\")\n",
    "plt.ylabel(\"Energy (H)\")\n",
    "plt.legend()\n",
    "plt.tight_layout()\n",
    "\n",
    "plt.savefig(\"sample_num.pdf\")\n"
   ]
  }
 ],
 "metadata": {
  "kernelspec": {
   "display_name": "Python 3 (ipykernel)",
   "language": "python",
   "name": "python3"
  },
  "language_info": {
   "codemirror_mode": {
    "name": "ipython",
    "version": 3
   },
   "file_extension": ".py",
   "mimetype": "text/x-python",
   "name": "python",
   "nbconvert_exporter": "python",
   "pygments_lexer": "ipython3",
   "version": "3.7.10"
  }
 },
 "nbformat": 4,
 "nbformat_minor": 5
}
